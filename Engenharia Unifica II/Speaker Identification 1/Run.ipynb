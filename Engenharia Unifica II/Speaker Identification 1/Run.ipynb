{
 "cells": [
  {
   "cell_type": "code",
   "execution_count": 1,
   "id": "c26231de",
   "metadata": {},
   "outputs": [
    {
     "name": "stdout",
     "output_type": "stream",
     "text": [
      "# Download dataset zip file\n",
      "# Mange and organize files\n",
      "# Train gender models\n",
      " # Identify genders\n"
     ]
    }
   ],
   "source": [
    "import time\n",
    "import os\n",
    "import urllib.request\n",
    "\n",
    "\n",
    "if __name__== \"__main__\":\n",
    "   # download dataset\n",
    "   print(\"# Download dataset zip file\")\n",
    "   zip_url  = \"http://www.openslr.org/resources/45/ST-AEDS-20180100_1-OS.tgz\"\n",
    "   urllib.request.urlretrieve(zip_url, 'SLR45.tgz')\n",
    "\n",
    "   # extract and manage dataset files\n",
    "   print(\"# Mange and organize files\")\n",
    "   os.system('python3 Code/DataManager.py')\n",
    "\n",
    "   # train speakers gmm models\n",
    "   print(\"# Train gender models\")\n",
    "   os.system('python3 Code/ModelsTrainer.py')\n",
    "\n",
    "   # test system and recognise/identify speakers\n",
    "   print(\" # Identify genders\")\n",
    "   os.system('python3 Code/SpeakerIdentifier.py')"
   ]
  },
  {
   "cell_type": "code",
   "execution_count": null,
   "id": "2018ca60",
   "metadata": {},
   "outputs": [],
   "source": []
  }
 ],
 "metadata": {
  "kernelspec": {
   "display_name": "Python 3 (ipykernel)",
   "language": "python",
   "name": "python3"
  },
  "language_info": {
   "codemirror_mode": {
    "name": "ipython",
    "version": 3
   },
   "file_extension": ".py",
   "mimetype": "text/x-python",
   "name": "python",
   "nbconvert_exporter": "python",
   "pygments_lexer": "ipython3",
   "version": "3.9.13"
  }
 },
 "nbformat": 4,
 "nbformat_minor": 5
}
