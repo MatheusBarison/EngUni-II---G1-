{
 "cells": [
  {
   "cell_type": "code",
   "execution_count": null,
   "id": "440e9bb8",
   "metadata": {},
   "outputs": [],
   "source": [
    "import os\n",
    "import subprocess\n",
    "import numpy as np\n",
    "from subprocess import Popen, PIPE\n",
    "\n",
    "class SilenceEliminator:\n",
    "\n",
    "    def __init__(self):\n",
    "        pass\n",
    "\n",
    "    def ffmpeg_silence_eliminator(self, input_path, output_path):\n",
    "        \"\"\"\n",
    "        Eliminate silence from voice file using ffmpeg library.\n",
    "        Args:\n",
    "            input_path  (str) : Path to get the original voice file from.\n",
    "            output_path (str) : Path to save the processed file to.\n",
    "        Returns:\n",
    "            (list)  : List including True for successful authentication, False otherwise and a percentage value\n",
    "                      representing the certainty of the decision.\n",
    "        \"\"\"\n",
    "        # filter silence in mp3 file\n",
    "        filter_command = [\"ffmpeg\", \"-i\", input_path, \"-af\", \"silenceremove=1:0:0.05:-1:1:-36dB\", \"-ac\", \"1\", \"-ss\", \"0\",\"-t\",\"90\", output_path, \"-y\"]\n",
    "        out = subprocess.Popen(filter_command, stdout=subprocess.PIPE, stderr=subprocess.STDOUT)\n",
    "        out.wait()\n",
    "\n",
    "        with_silence_duration = os.popen(\"ffprobe -i '\" + input_path + \"' -show_format -v quiet | sed -n 's/duration=//p'\").read()\n",
    "        no_silence_duration   = os.popen(\"ffprobe -i '\" + output_path + \"' -show_format -v quiet | sed -n 's/duration=//p'\").read()\n",
    "\n",
    "        # print duration specs\n",
    "        try:\n",
    "            print(\"%-32s %-7s %-50s\" % (\"ORIGINAL SAMPLE DURATION\",         \":\", float(with_silence_duration)))\n",
    "            print(\"%-23s %-7s %-50s\" % (\"SILENCE FILTERED SAMPLE DURATION\", \":\", float(no_silence_duration)))\n",
    "        except:\n",
    "            print(\"Cannot convert float to string\")\n",
    "\n",
    "        # convert file to wave and read array\n",
    "        load_command = [\"ffmpeg\", \"-i\", output_path, \"-f\", \"wav\", \"-\" ]\n",
    "        p            = Popen(load_command, stdin=PIPE, stdout=PIPE, stderr=PIPE)\n",
    "        data         = p.communicate()[0]\n",
    "        audio_np     = np.frombuffer(data[data.find(b'\\x00data')+ 9:], np.int16)\n",
    "\n",
    "        # delete temp silence free file, as we only need the array\n",
    "        os.remove(output_path)\n",
    "        return audio_np, no_silence_duration"
   ]
  }
 ],
 "metadata": {
  "kernelspec": {
   "display_name": "Python 3 (ipykernel)",
   "language": "python",
   "name": "python3"
  },
  "language_info": {
   "codemirror_mode": {
    "name": "ipython",
    "version": 3
   },
   "file_extension": ".py",
   "mimetype": "text/x-python",
   "name": "python",
   "nbconvert_exporter": "python",
   "pygments_lexer": "ipython3",
   "version": "3.9.13"
  }
 },
 "nbformat": 4,
 "nbformat_minor": 5
}
